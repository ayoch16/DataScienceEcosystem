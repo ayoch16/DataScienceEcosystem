{
 "cells": [
  {
   "cell_type": "markdown",
   "id": "401f4419-05fc-4e3c-b72b-8d5c638dab39",
   "metadata": {},
   "source": [
    "# Data Science Tools and Ecosystem"
   ]
  },
  {
   "cell_type": "markdown",
   "id": "a8a09931-20f6-4abe-b6be-dd6350589d0a",
   "metadata": {},
   "source": [
    "In this notebook, Data Science Tools and Ecosystem are summarized."
   ]
  },
  {
   "cell_type": "markdown",
   "id": "4a87a1ad-778d-4d84-8846-286dbaa42f4e",
   "metadata": {},
   "source": [
    "**Objectives:**"
   ]
  },
  {
   "cell_type": "code",
   "execution_count": 12,
   "id": "95f5f8e0-809b-4824-8bc8-f10961c9ba2b",
   "metadata": {},
   "outputs": [],
   "source": [
    "mylist={\"Python\",\"R\",\"SQL\"}"
   ]
  },
  {
   "cell_type": "markdown",
   "id": "4592aee3-ae22-4569-90ba-8a9e74c136a8",
   "metadata": {},
   "source": [
    "Some of the popular languages that Data Scientists use are:\n"
   ]
  },
  {
   "cell_type": "code",
   "execution_count": 1,
   "id": "2beff3d5-e062-49ee-8ccc-c4141c58c26e",
   "metadata": {},
   "outputs": [],
   "source": [
    "import numpy"
   ]
  },
  {
   "cell_type": "code",
   "execution_count": 11,
   "id": "480f1905-0e60-45fb-b69e-8e2bd202ae8b",
   "metadata": {},
   "outputs": [],
   "source": [
    "mylist = [\"Python\",\"R\",\"SQL\"]"
   ]
  },
  {
   "cell_type": "markdown",
   "id": "981518ed-7e2e-4aa5-89b1-ff7bc534e549",
   "metadata": {},
   "source": [
    "Some of the commonly used libraries used by Data Scientists include:"
   ]
  },
  {
   "cell_type": "code",
   "execution_count": 6,
   "id": "0dbe58ff-44b0-44f7-baa0-75946d33dac9",
   "metadata": {},
   "outputs": [],
   "source": [
    "list =[\"NumPy\",\"Pandas\",\"Matplotlib\",\"Scikit-learn\"]"
   ]
  },
  {
   "cell_type": "markdown",
   "id": "f89cbcff-75b6-4adc-989e-ba89c20ee705",
   "metadata": {},
   "source": [
    "# Data Science Tools\n",
    "\n",
    "|                      |\n",
    "|----------------------|\n",
    "|   Jupyter Notebook   |\n",
    "|      RStudio         |\n",
    "|      Spyder          |"
   ]
  },
  {
   "cell_type": "markdown",
   "id": "129976b9-6b38-4d3a-a892-a0894d8a2679",
   "metadata": {},
   "source": [
    "### Below are a few examples of evaluating arithmetic expressions in Python"
   ]
  },
  {
   "cell_type": "code",
   "execution_count": 7,
   "id": "ffd615cc-57c5-46e0-842a-9a8b78f4b78e",
   "metadata": {},
   "outputs": [
    {
     "name": "stdout",
     "output_type": "stream",
     "text": [
      "17\n"
     ]
    }
   ],
   "source": [
    "#This a simple arithmetic expression to mutiply then add integers\n",
    "A = (3*4)+5\n",
    "print (A)"
   ]
  },
  {
   "cell_type": "code",
   "execution_count": 8,
   "id": "d510e974-6b37-402d-ace5-11575230c9b6",
   "metadata": {},
   "outputs": [
    {
     "name": "stdout",
     "output_type": "stream",
     "text": [
      "3 hours and 20 minutes\n"
     ]
    }
   ],
   "source": [
    "#This will convert 200 minutes to hours by diving by 60\n",
    "minutes = 200\n",
    "hours = minutes // 60\n",
    "remaining_minutes = minutes % 60\n",
    "print(f\"{hours} hours and {remaining_minutes} minutes\")"
   ]
  },
  {
   "cell_type": "markdown",
   "id": "f38e10e1-66af-43c2-afe6-a3f6780620fa",
   "metadata": {},
   "source": [
    "## Author aya"
   ]
  }
 ],
 "metadata": {
  "kernelspec": {
   "display_name": "Python 3 (ipykernel)",
   "language": "python",
   "name": "python3"
  },
  "language_info": {
   "codemirror_mode": {
    "name": "ipython",
    "version": 3
   },
   "file_extension": ".py",
   "mimetype": "text/x-python",
   "name": "python",
   "nbconvert_exporter": "python",
   "pygments_lexer": "ipython3",
   "version": "3.11.4"
  }
 },
 "nbformat": 4,
 "nbformat_minor": 5
}
